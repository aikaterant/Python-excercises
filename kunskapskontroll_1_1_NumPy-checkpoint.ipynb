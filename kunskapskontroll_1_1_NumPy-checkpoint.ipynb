{
 "cells": [
  {
   "cell_type": "markdown",
   "id": "dacf74e6",
   "metadata": {},
   "source": [
    "# NumPy"
   ]
  },
  {
   "cell_type": "code",
   "execution_count": null,
   "id": "3c3dfebb",
   "metadata": {},
   "outputs": [],
   "source": []
  },
  {
   "cell_type": "markdown",
   "id": "01b2bf34",
   "metadata": {},
   "source": [
    "Read the links: https://numpy.org/doc/stable/user/quickstart.html  and https://numpy.org/doc/stable/user/basics.broadcasting.html  before solving the exercises. "
   ]
  },
  {
   "cell_type": "code",
   "execution_count": 10,
   "id": "1f79e4a6",
   "metadata": {},
   "outputs": [],
   "source": [
    "import numpy as np"
   ]
  },
  {
   "cell_type": "markdown",
   "id": "7dae6889",
   "metadata": {},
   "source": [
    "### Print out the dimension (number of axes), shape, size and the datatype of the matrix A."
   ]
  },
  {
   "cell_type": "code",
   "execution_count": 11,
   "id": "7b3678cd",
   "metadata": {},
   "outputs": [
    {
     "name": "stdout",
     "output_type": "stream",
     "text": [
      "Dimension of A: 2\n",
      "Shape of A: (3, 5)\n",
      "Size of A: 15\n",
      "Datatype of A: int32\n"
     ]
    }
   ],
   "source": [
    "A = np.arange(1, 16).reshape(3,5)\n",
    "\n",
    "print(\"Dimension of A:\", A.ndim)\n",
    "print(\"Shape of A:\", A.shape)\n",
    "print(\"Size of A:\", A.size)\n",
    "print(\"Datatype of A:\", A.dtype)\n"
   ]
  },
  {
   "cell_type": "code",
   "execution_count": null,
   "id": "31d39235",
   "metadata": {},
   "outputs": [],
   "source": []
  },
  {
   "cell_type": "markdown",
   "id": "e56d2a96",
   "metadata": {},
   "source": [
    "### Do the following computations on the matrices B and C: \n",
    "* Elementwise subtraction. \n",
    "* Elementwise multiplication. \n",
    "* Matrix multiplication (by default you should use the @ operator)."
   ]
  },
  {
   "cell_type": "code",
   "execution_count": 13,
   "id": "a7053fbb",
   "metadata": {},
   "outputs": [
    {
     "name": "stdout",
     "output_type": "stream",
     "text": [
      "Matrix B:\n",
      "[[1 2 3]\n",
      " [4 5 6]\n",
      " [7 8 9]]\n",
      "\n",
      "Matrix C:\n",
      "[[2. 2. 2.]\n",
      " [2. 2. 2.]\n",
      " [2. 2. 2.]]\n",
      "\n",
      "Elementwise Subtraction of B and C:\n",
      "[[-1.  0.  1.]\n",
      " [ 2.  3.  4.]\n",
      " [ 5.  6.  7.]]\n",
      "\n",
      "Elementwise Multiplication of B and C:\n",
      "[[ 2.  4.  6.]\n",
      " [ 8. 10. 12.]\n",
      " [14. 16. 18.]]\n",
      "\n",
      "Matrix Multiplication of B and C:\n",
      "[[12. 12. 12.]\n",
      " [30. 30. 30.]\n",
      " [48. 48. 48.]]\n"
     ]
    }
   ],
   "source": [
    "B = np.arange(1, 10).reshape(3, 3)\n",
    "C = np.ones((3, 3))*2\n",
    "\n",
    "print(\"Matrix B:\")\n",
    "print(B)\n",
    "print(\"\\nMatrix C:\")\n",
    "print(C)\n",
    "\n",
    "# Elementwise subtraction\n",
    "subtraction_result = B - C\n",
    "print(\"\\nElementwise Subtraction of B and C:\")\n",
    "print(subtraction_result)\n",
    "\n",
    "# Elementwise multiplication\n",
    "elementwise_multiplication_result = B * C\n",
    "print(\"\\nElementwise Multiplication of B and C:\")\n",
    "print(elementwise_multiplication_result)\n",
    "\n",
    "# Matrix multiplication using @ operator\n",
    "matrix_multiplication_result = B @ C\n",
    "print(\"\\nMatrix Multiplication of B and C:\")\n",
    "print(matrix_multiplication_result)"
   ]
  },
  {
   "cell_type": "code",
   "execution_count": null,
   "id": "3cd794ae",
   "metadata": {},
   "outputs": [],
   "source": []
  },
  {
   "cell_type": "markdown",
   "id": "96030d53",
   "metadata": {},
   "source": [
    "### Do the following calculations on the matrix:\n",
    "* Exponentiate each number elementwise (use the np.exp function).\n",
    "\n",
    "* Calculate the minimum value in the whole matrix. \n",
    "* Calculcate the minimum value in each row. \n",
    "* Calculcate the minimum value in each column. \n",
    "\n",
    "\n",
    "* Find the index value for the minimum value in the whole matrix (hint: use np.argmin).\n",
    "* Find the index value for the minimum value in each row (hint: use np.argmin).\n",
    "\n",
    "\n",
    "* Calculate the sum for all elements.\n",
    "* Calculate the mean for each column. \n",
    "* Calculate the median for each column. "
   ]
  },
  {
   "cell_type": "code",
   "execution_count": 14,
   "id": "f8a9166b",
   "metadata": {},
   "outputs": [
    {
     "name": "stdout",
     "output_type": "stream",
     "text": [
      "Matrix B:\n",
      "[[1 2 3]\n",
      " [4 5 6]\n",
      " [7 8 9]]\n",
      "\n",
      "Exponentiated B:\n",
      "[[2.71828183e+00 7.38905610e+00 2.00855369e+01]\n",
      " [5.45981500e+01 1.48413159e+02 4.03428793e+02]\n",
      " [1.09663316e+03 2.98095799e+03 8.10308393e+03]]\n",
      "\n",
      "Minimum value in B: 1\n",
      "\n",
      "Minimum value in each row: [1 4 7]\n",
      "\n",
      "Minimum value in each column: [1 2 3]\n",
      "\n",
      "Index of minimum value in B: 0\n",
      "\n",
      "Index of minimum value in each row: [0 0 0]\n",
      "\n",
      "Sum of all elements in B: 45\n",
      "\n",
      "Mean for each column: [4. 5. 6.]\n",
      "\n",
      "Median for each column: [4. 5. 6.]\n"
     ]
    }
   ],
   "source": [
    "B = np.arange(1, 10).reshape(3, 3)\n",
    "print(\"Matrix B:\")\n",
    "print(B)\n",
    "\n",
    "# Exponentiate each number elementwise\n",
    "B_exp = np.exp(B)\n",
    "print(\"\\nExponentiated B:\")\n",
    "print(B_exp)\n",
    "\n",
    "# Minimum value in the whole matrix\n",
    "min_val = np.min(B)\n",
    "print(\"\\nMinimum value in B:\", min_val)\n",
    "\n",
    "# Minimum value in each row\n",
    "min_row = np.min(B, axis=1)\n",
    "print(\"\\nMinimum value in each row:\", min_row)\n",
    "\n",
    "# Minimum value in each column\n",
    "min_col = np.min(B, axis=0)\n",
    "print(\"\\nMinimum value in each column:\", min_col)\n",
    "\n",
    "# Index of minimum value in the matrix\n",
    "min_index = np.argmin(B)\n",
    "print(\"\\nIndex of minimum value in B:\", min_index)\n",
    "\n",
    "# Index of minimum value in each row\n",
    "min_index_row = np.argmin(B, axis=1)\n",
    "print(\"\\nIndex of minimum value in each row:\", min_index_row)\n",
    "\n",
    "# Sum of all elements\n",
    "sum_val = np.sum(B)\n",
    "print(\"\\nSum of all elements in B:\", sum_val)\n",
    "\n",
    "# Mean for each column\n",
    "mean_col = np.mean(B, axis=0)\n",
    "print(\"\\nMean for each column:\", mean_col)\n",
    "\n",
    "# Median for each column\n",
    "median_col = np.median(B, axis=0)\n",
    "print(\"\\nMedian for each column:\", median_col)"
   ]
  },
  {
   "cell_type": "code",
   "execution_count": null,
   "id": "f03f24f7",
   "metadata": {},
   "outputs": [],
   "source": []
  },
  {
   "cell_type": "markdown",
   "id": "541eb7ba",
   "metadata": {},
   "source": [
    "### What does it mean when you provide fewer indices than axes when slicing? See example below."
   ]
  },
  {
   "cell_type": "code",
   "execution_count": null,
   "id": "9c8abf56",
   "metadata": {},
   "outputs": [],
   "source": [
    "print(A)"
   ]
  },
  {
   "cell_type": "code",
   "execution_count": null,
   "id": "69415f7b",
   "metadata": {},
   "outputs": [],
   "source": [
    "A[1]"
   ]
  },
  {
   "cell_type": "markdown",
   "id": "6c53541b",
   "metadata": {},
   "source": [
    "**Answer:**"
   ]
  },
  {
   "cell_type": "code",
   "execution_count": 16,
   "id": "de01e120",
   "metadata": {},
   "outputs": [
    {
     "data": {
      "text/plain": [
       "'\\nOnly the initial dimensions are addressed when fewer indices than axes are provided during slicing.\\nThe unaddressed latter dimensions are returned in their entirety.\\nFor a 2D matrix like A, when a single index like A[1] is used, a specific row is targeted. \\nThe entire 1st index row and all columns within that row are selected.\\n'"
      ]
     },
     "execution_count": 16,
     "metadata": {},
     "output_type": "execute_result"
    }
   ],
   "source": [
    "\"\"\"\n",
    "Only the initial dimensions are addressed when fewer indices than axes are provided during slicing.\n",
    "The unaddressed latter dimensions are returned in their entirety.\n",
    "For a 2D matrix like A, when a single index like A[1] is used, a specific row is targeted. \n",
    "The entire 1st index row and all columns within that row are selected.\n",
    "\"\"\""
   ]
  },
  {
   "cell_type": "markdown",
   "id": "6652d0c9",
   "metadata": {},
   "source": [
    "### Iterating over multidimensional arrays is done with respect to the first axis, so in the example below we iterate trough the rows. If you would like to iterate through the array *elementwise*, how would you do that?"
   ]
  },
  {
   "cell_type": "code",
   "execution_count": null,
   "id": "9459864f",
   "metadata": {},
   "outputs": [],
   "source": [
    "A"
   ]
  },
  {
   "cell_type": "code",
   "execution_count": null,
   "id": "a671bb5a",
   "metadata": {},
   "outputs": [],
   "source": [
    "for i in A:\n",
    "    print(i)"
   ]
  },
  {
   "cell_type": "code",
   "execution_count": 17,
   "id": "f4e443a0",
   "metadata": {},
   "outputs": [
    {
     "data": {
      "text/plain": [
       "'\\nIt can be used with array A:\\nfor element in A.flat:\\n    print(element)\\n'"
      ]
     },
     "execution_count": 17,
     "metadata": {},
     "output_type": "execute_result"
    }
   ],
   "source": [
    "\"\"\"\n",
    "It can be used with array A:\n",
    "for element in A.flat:\n",
    "    print(element)\n",
    "\"\"\""
   ]
  },
  {
   "cell_type": "markdown",
   "id": "608a2583",
   "metadata": {},
   "source": [
    "### Explain what the code below does. More specifically, b has three axes - what does this mean? "
   ]
  },
  {
   "cell_type": "code",
   "execution_count": null,
   "id": "f8f9b26f",
   "metadata": {},
   "outputs": [],
   "source": [
    "a = np.arange(30)\n",
    "b = a.reshape((2, 3, -1))\n",
    "print(a)\n",
    "print()\n",
    "\n",
    "print(b)"
   ]
  },
  {
   "cell_type": "code",
   "execution_count": 18,
   "id": "863a45df",
   "metadata": {},
   "outputs": [
    {
     "data": {
      "text/plain": [
       "'\\n# a = np.arange(30): This creates an array `a` containing numbers from 0 to 29.\\n\\n# b = a.reshape((2, 3, -1)): This reshapes the array `a` into a new shape with three dimensions.\\n   - The first dimension has size 2.\\n   - The second dimension has size 3.\\n   - The `-1` in the third dimension means that its size should be inferred automatically from the size of `a` and the sizes of the other dimensions.\\n\\nThe resulting shape of `b` is (2, 3, 5).\\n\\n# print(a): This will print the original flat array of numbers from 0 to 29.\\n\\n# print(b): This will print the reshaped 3-dimensional array `b`.\\n\\nWhen we say `b` has three axes, it means that the array has three dimensions.\\n- The first axis (dimension) has size 2.\\n- The second axis has size 3.\\n- The third axis has size 5.\\n\\n`b` is two groups (1st axis). Each group contains three sub-groups (2nd axis). Each of these sub-groups contains five elements (3rd axis).\\n'"
      ]
     },
     "execution_count": 18,
     "metadata": {},
     "output_type": "execute_result"
    }
   ],
   "source": [
    "\"\"\"\n",
    "# a = np.arange(30): This creates an array `a` containing numbers from 0 to 29.\n",
    "\n",
    "# b = a.reshape((2, 3, -1)): This reshapes the array `a` into a new shape with three dimensions.\n",
    "   - The first dimension has size 2.\n",
    "   - The second dimension has size 3.\n",
    "   - The `-1` in the third dimension means that its size should be inferred automatically from the size of `a` and the sizes of the other dimensions.\n",
    "\n",
    "The resulting shape of `b` is (2, 3, 5).\n",
    "\n",
    "# print(a): This will print the original flat array of numbers from 0 to 29.\n",
    "\n",
    "# print(b): This will print the reshaped 3-dimensional array `b`.\n",
    "\n",
    "When we say `b` has three axes, it means that the array has three dimensions.\n",
    "- The first axis (dimension) has size 2.\n",
    "- The second axis has size 3.\n",
    "- The third axis has size 5.\n",
    "\n",
    "`b` is two groups (1st axis). Each group contains three sub-groups (2nd axis). Each of these sub-groups contains five elements (3rd axis).\n",
    "\"\"\""
   ]
  },
  {
   "cell_type": "markdown",
   "id": "ab5933d5",
   "metadata": {},
   "source": [
    "### Broadcasting\n",
    "**Read the following link about broadcasting: https://numpy.org/doc/stable/user/basics.broadcasting.html#basics-broadcasting**"
   ]
  },
  {
   "cell_type": "markdown",
   "id": "039805ba",
   "metadata": {},
   "source": [
    "# Remark on Broadcasting when doing Linear Algebra calculations in Python. "
   ]
  },
  {
   "cell_type": "markdown",
   "id": "c4bcc147",
   "metadata": {},
   "source": [
    "### From the mathematical rules of matrix addition, the operation below (m1 + m2) does not make sense. The reason is that matrix addition requires two matrices of the same size. In Python however, it works due to broadcasting rules in NumPy. So you must be careful when doing Linear Algebra calculations in Python since they do not follow the \"mathematical rules\". This can however easily be handled by doing some simple programming, for example validating that two matrices have the same shape is easy if you for instance want to add two matrices. "
   ]
  },
  {
   "cell_type": "code",
   "execution_count": null,
   "id": "1fd46778",
   "metadata": {},
   "outputs": [],
   "source": [
    "m1 = np.array([[1, 2], [3, 4]])\n",
    "m2 = np.array([1, 1])\n",
    "print(m1 + m2)"
   ]
  },
  {
   "cell_type": "markdown",
   "id": "047d6576",
   "metadata": {},
   "source": [
    "### The example below would also not be allowed if following the \"mathematical rules\" in Linear Algebra. But it works due to broadcasting in NumPy. "
   ]
  },
  {
   "cell_type": "code",
   "execution_count": null,
   "id": "5e6ef2e4",
   "metadata": {},
   "outputs": [],
   "source": [
    "v1 = np.array([1, 2, 3])\n",
    "print(v1 + 1)"
   ]
  },
  {
   "cell_type": "code",
   "execution_count": null,
   "id": "e2cbae26",
   "metadata": {},
   "outputs": [],
   "source": [
    "A = np.arange(1, 5).reshape(2,2)\n",
    "print(A)\n",
    "\n",
    "b = np.array([2, 2])\n",
    "print(b)"
   ]
  },
  {
   "cell_type": "markdown",
   "id": "722fd5cd",
   "metadata": {},
   "source": [
    "# Linear Algebra Exercises"
   ]
  },
  {
   "cell_type": "markdown",
   "id": "b8935099",
   "metadata": {},
   "source": [
    "The exercies are taken from the \"Matrix Algebra for Engineers\" by Chasnov: https://www.math.hkust.edu.hk/~machas/matrix-algebra-for-engineers.pdf .\n",
    "\n",
    "Do the following exercises: \n",
    "* Chapter 2, exercise 1-3.\n",
    "* Quiz on p.11, exercise 2. \n",
    "* Chapter 6, exercise 1. \n",
    "* Quiz on p.19, exercise 3. \n",
    "\n",
    "\n",
    "* Chapter 10, exercise 1. \n",
    "* Chapter 12 exercise 1. \n"
   ]
  },
  {
   "cell_type": "code",
   "execution_count": null,
   "id": "a452a77a",
   "metadata": {},
   "outputs": [],
   "source": []
  },
  {
   "cell_type": "markdown",
   "id": "9d8366cc",
   "metadata": {},
   "source": [
    "**Chap2. Question 1.**\n",
    "\n",
    "**Write a function \"add_mult_matrices\" that takes two matrices as input arguments (validate that the input are of the type numpy.ndarray by using the isinstance function), a third argument that is either 'add' or 'multiply' that specifies if you want to add or multiply the matrices (validate that the third argument is either 'add' or 'multiply'). When doing matrix addition, validate that the matrices have the same size. When doing matrix multiplication, validate that the sizes conform (i.e. number of columns in the first matrix is equal to the number of rows in the second matrix).**\n",
    "\n",
    "In this exercise, create a function that takes two matrices as input and either adds or multiplies them by specifying a argument as either 'add' or 'multiply'. Validate that both matrices taken as input are of the type ndarray (use the isinstance function)."
   ]
  },
  {
   "cell_type": "code",
   "execution_count": 19,
   "id": "535ee48c",
   "metadata": {},
   "outputs": [
    {
     "name": "stdout",
     "output_type": "stream",
     "text": [
      "A:\n",
      "[[ 2  1 -1]\n",
      " [ 1 -1  1]]\n",
      "\n",
      "B:\n",
      "[[ 4 -2  1]\n",
      " [ 2 -4 -2]]\n",
      "\n",
      "C:\n",
      "[[1 2]\n",
      " [2 1]]\n",
      "\n",
      "D:\n",
      "[[3 4]\n",
      " [4 3]]\n",
      "\n",
      "E:\n",
      "[[1]\n",
      " [2]]\n",
      "\n",
      "B - 2A:\n",
      "[[ 8  0 -1]\n",
      " [ 4 -6  0]]\n",
      "\n",
      "3C - E:\n"
     ]
    },
    {
     "ename": "ValueError",
     "evalue": "For addition, both matrices must have the same shape.",
     "output_type": "error",
     "traceback": [
      "\u001b[1;31m---------------------------------------------------------------------------\u001b[0m",
      "\u001b[1;31mValueError\u001b[0m                                Traceback (most recent call last)",
      "Cell \u001b[1;32mIn[19], line 38\u001b[0m\n\u001b[0;32m     35\u001b[0m \u001b[38;5;28mprint\u001b[39m(matrix_operation(B, \u001b[38;5;241m2\u001b[39m\u001b[38;5;241m*\u001b[39mA, \u001b[38;5;124m'\u001b[39m\u001b[38;5;124madd\u001b[39m\u001b[38;5;124m'\u001b[39m))\n\u001b[0;32m     37\u001b[0m \u001b[38;5;28mprint\u001b[39m(\u001b[38;5;124m\"\u001b[39m\u001b[38;5;130;01m\\n\u001b[39;00m\u001b[38;5;124m3C - E:\u001b[39m\u001b[38;5;124m\"\u001b[39m)\n\u001b[1;32m---> 38\u001b[0m \u001b[38;5;28mprint\u001b[39m(matrix_operation(\u001b[38;5;241m3\u001b[39m\u001b[38;5;241m*\u001b[39mC, \u001b[38;5;241m-\u001b[39mE, \u001b[38;5;124m'\u001b[39m\u001b[38;5;124madd\u001b[39m\u001b[38;5;124m'\u001b[39m))\n\u001b[0;32m     40\u001b[0m \u001b[38;5;28mprint\u001b[39m(\u001b[38;5;124m\"\u001b[39m\u001b[38;5;130;01m\\n\u001b[39;00m\u001b[38;5;124mAC:\u001b[39m\u001b[38;5;124m\"\u001b[39m)\n\u001b[0;32m     41\u001b[0m \u001b[38;5;28mprint\u001b[39m(matrix_operation(A, C, \u001b[38;5;124m'\u001b[39m\u001b[38;5;124mmultiply\u001b[39m\u001b[38;5;124m'\u001b[39m))\n",
      "Cell \u001b[1;32mIn[19], line 8\u001b[0m, in \u001b[0;36mmatrix_operation\u001b[1;34m(matrix1, matrix2, operation)\u001b[0m\n\u001b[0;32m      6\u001b[0m \u001b[38;5;28;01mif\u001b[39;00m operation \u001b[38;5;241m==\u001b[39m \u001b[38;5;124m'\u001b[39m\u001b[38;5;124madd\u001b[39m\u001b[38;5;124m'\u001b[39m:\n\u001b[0;32m      7\u001b[0m     \u001b[38;5;28;01mif\u001b[39;00m matrix1\u001b[38;5;241m.\u001b[39mshape \u001b[38;5;241m!=\u001b[39m matrix2\u001b[38;5;241m.\u001b[39mshape:\n\u001b[1;32m----> 8\u001b[0m         \u001b[38;5;28;01mraise\u001b[39;00m \u001b[38;5;167;01mValueError\u001b[39;00m(\u001b[38;5;124m\"\u001b[39m\u001b[38;5;124mFor addition, both matrices must have the same shape.\u001b[39m\u001b[38;5;124m\"\u001b[39m)\n\u001b[0;32m      9\u001b[0m     \u001b[38;5;28;01mreturn\u001b[39;00m matrix1 \u001b[38;5;241m+\u001b[39m matrix2\n\u001b[0;32m     10\u001b[0m \u001b[38;5;28;01melif\u001b[39;00m operation \u001b[38;5;241m==\u001b[39m \u001b[38;5;124m'\u001b[39m\u001b[38;5;124mmultiply\u001b[39m\u001b[38;5;124m'\u001b[39m:\n",
      "\u001b[1;31mValueError\u001b[0m: For addition, both matrices must have the same shape."
     ]
    }
   ],
   "source": [
    "\n",
    "def matrix_operation(matrix1, matrix2, operation):\n",
    "    # Check if both matrices are ndarrays\n",
    "    if not (isinstance(matrix1, np.ndarray) and isinstance(matrix2, np.ndarray)):\n",
    "        raise ValueError(\"Both inputs should be of type ndarray.\")\n",
    "    \n",
    "    if operation == 'add':\n",
    "        if matrix1.shape != matrix2.shape:\n",
    "            raise ValueError(\"For addition, both matrices must have the same shape.\")\n",
    "        return matrix1 + matrix2\n",
    "    elif operation == 'multiply':\n",
    "        if matrix1.shape[1] != matrix2.shape[0]:\n",
    "            raise ValueError(\"For multiplication, the number of columns in the first matrix must be equal to the number of rows in the second matrix.\")\n",
    "        return matrix1 @ matrix2\n",
    "    else:\n",
    "        raise ValueError(\"Invalid operation specified. Use 'add' or 'multiply'.\")\n",
    "\n",
    "A = np.array([[2, 1, -1], [1, -1, 1]])\n",
    "B = np.array([[4, -2, 1], [2, -4, -2]])\n",
    "C = np.array([[1, 2], [2, 1]])\n",
    "D = np.array([[3, 4], [4, 3]])\n",
    "E = np.array([[1], [2]])\n",
    "\n",
    "print(\"A:\")\n",
    "print(A)\n",
    "print(\"\\nB:\")\n",
    "print(B)\n",
    "print(\"\\nC:\")\n",
    "print(C)\n",
    "print(\"\\nD:\")\n",
    "print(D)\n",
    "print(\"\\nE:\")\n",
    "print(E)\n",
    "\n",
    "print(\"\\nB - 2A:\")\n",
    "print(matrix_operation(B, 2*A, 'add'))\n",
    "\n",
    "print(\"\\n3C - E:\")\n",
    "print(matrix_operation(3*C, -E, 'add'))\n",
    "\n",
    "print(\"\\nAC:\")\n",
    "print(matrix_operation(A, C, 'multiply'))\n",
    "\n",
    "print(\"\\nCD:\")\n",
    "print(matrix_operation(C, D, 'multiply'))\n",
    "\n",
    "print(\"\\nCB:\")\n",
    "print(matrix_operation(C, B, 'multiply'))\n"
   ]
  },
  {
   "cell_type": "markdown",
   "id": "5000c829",
   "metadata": {},
   "source": [
    "**Chap2. Question 2**"
   ]
  },
  {
   "cell_type": "code",
   "execution_count": 20,
   "id": "44dab740",
   "metadata": {},
   "outputs": [
    {
     "name": "stdout",
     "output_type": "stream",
     "text": [
      "AB:\n",
      "[[ 4  7]\n",
      " [ 8 14]]\n",
      "\n",
      "AC:\n",
      "[[ 4  7]\n",
      " [ 8 14]]\n",
      "\n",
      "Is AB equal to AC?\n",
      "True\n",
      "\n",
      "Is B not equal to C?\n",
      "True\n"
     ]
    }
   ],
   "source": [
    "A = np.array([[1, 2], [2, 4]])\n",
    "B = np.array([[2, 1], [1, 3]])\n",
    "C = np.array([[4, 3], [0, 2]])\n",
    "\n",
    "# Compute the matrix products\n",
    "AB = A @ B\n",
    "AC = A @ C\n",
    "\n",
    "# Check if AB is equal to AC\n",
    "product_equal = np.array_equal(AB, AC)\n",
    "\n",
    "# Check if B is not equal to C\n",
    "matrices_not_equal = not np.array_equal(B, C)\n",
    "\n",
    "print(\"AB:\")\n",
    "print(AB)\n",
    "\n",
    "print(\"\\nAC:\")\n",
    "print(AC)\n",
    "\n",
    "print(\"\\nIs AB equal to AC?\")\n",
    "print(product_equal)\n",
    "\n",
    "print(\"\\nIs B not equal to C?\")\n",
    "print(matrices_not_equal)"
   ]
  },
  {
   "cell_type": "markdown",
   "id": "a7f5b140",
   "metadata": {},
   "source": [
    "**Chap2. Question 3**"
   ]
  },
  {
   "cell_type": "code",
   "execution_count": 21,
   "id": "668b1323",
   "metadata": {},
   "outputs": [
    {
     "name": "stdout",
     "output_type": "stream",
     "text": [
      "AD:\n",
      "[[ 2  3  4]\n",
      " [ 2  6 12]\n",
      " [ 2  9 16]]\n",
      "\n",
      "DA:\n",
      "[[ 2  2  2]\n",
      " [ 3  6  9]\n",
      " [ 4 12 16]]\n"
     ]
    }
   ],
   "source": [
    "A = np.array([[1, 1, 1], [1, 2, 3], [1, 3, 4]])\n",
    "D = np.array([[2, 0, 0], [0, 3, 0], [0, 0, 4]])\n",
    "\n",
    "# Compute AD\n",
    "AD = A @ D\n",
    "\n",
    "# Compute DA\n",
    "DA = D @ A\n",
    "\n",
    "print(\"AD:\")\n",
    "print(AD)\n",
    "\n",
    "print(\"\\nDA:\")\n",
    "print(DA)"
   ]
  },
  {
   "cell_type": "markdown",
   "id": "334ca623",
   "metadata": {},
   "source": [
    "**Quiz p.11, Question 2**"
   ]
  },
  {
   "cell_type": "code",
   "execution_count": 22,
   "id": "b031a786",
   "metadata": {},
   "outputs": [
    {
     "name": "stdout",
     "output_type": "stream",
     "text": [
      "[[-2  2]\n",
      " [ 2 -2]]\n"
     ]
    }
   ],
   "source": [
    "A = np.array([[1, -1], [-1, 1]])\n",
    "B = np.array([[-1, 1], [1, -1]])\n",
    "\n",
    "product = A @ B\n",
    "print(product)"
   ]
  },
  {
   "cell_type": "markdown",
   "id": "fbfb4124",
   "metadata": {},
   "source": [
    "**Chap 6. Question 1**"
   ]
  },
  {
   "cell_type": "code",
   "execution_count": 23,
   "id": "9c68d160",
   "metadata": {},
   "outputs": [
    {
     "name": "stdout",
     "output_type": "stream",
     "text": [
      "Inverse of A:\n",
      "[[ 5. -6.]\n",
      " [-4.  5.]]\n",
      "\n",
      "Inverse of B:\n",
      "[[ 0.5        -0.66666667]\n",
      " [-0.5         1.        ]]\n"
     ]
    }
   ],
   "source": [
    "A = np.array([[5, 6], [4, 5]])\n",
    "B = np.array([[6, 4], [3, 3]])\n",
    "\n",
    "# Compute the inverse of A\n",
    "A_inv = np.linalg.inv(A)\n",
    "\n",
    "# Compute the inverse of B\n",
    "B_inv = np.linalg.inv(B)\n",
    "\n",
    "print(\"Inverse of A:\")\n",
    "print(A_inv)\n",
    "\n",
    "print(\"\\nInverse of B:\")\n",
    "print(B_inv)"
   ]
  },
  {
   "cell_type": "markdown",
   "id": "574b6d18",
   "metadata": {},
   "source": [
    "**Quiz p.19, Question 3**"
   ]
  },
  {
   "cell_type": "code",
   "execution_count": 24,
   "id": "c4cc11eb",
   "metadata": {},
   "outputs": [
    {
     "name": "stdout",
     "output_type": "stream",
     "text": [
      "[[ 1.  -1. ]\n",
      " [-0.5  1. ]]\n"
     ]
    }
   ],
   "source": [
    "A = np.array([[2, 2], [1, 2]])\n",
    "A_inv = np.linalg.inv(A)\n",
    "print(A_inv)"
   ]
  },
  {
   "cell_type": "markdown",
   "id": "5de93779",
   "metadata": {},
   "source": [
    "**Chap10. Question 1 a)**"
   ]
  },
  {
   "cell_type": "code",
   "execution_count": 25,
   "id": "e9a63544",
   "metadata": {},
   "outputs": [
    {
     "name": "stdout",
     "output_type": "stream",
     "text": [
      "x1 = 2.999999999999998\n",
      "x2 = 3.9999999999999964\n",
      "x3 = -5.999999999999991\n"
     ]
    }
   ],
   "source": [
    "A = np.array([[3, -7, -2],\n",
    "              [-3, 5, 1],\n",
    "              [6, -4, 0]])\n",
    "\n",
    "b = np.array([-7, 5, 2])\n",
    "\n",
    "x = np.linalg.solve(A, b)\n",
    "\n",
    "print(\"x1 =\", x[0])\n",
    "print(\"x2 =\", x[1])\n",
    "print(\"x3 =\", x[2])"
   ]
  },
  {
   "cell_type": "markdown",
   "id": "3f49e9e1",
   "metadata": {},
   "source": [
    "**Chap10. Question 1 b)**"
   ]
  },
  {
   "cell_type": "code",
   "execution_count": 26,
   "id": "6f6e72fb",
   "metadata": {},
   "outputs": [
    {
     "name": "stdout",
     "output_type": "stream",
     "text": [
      "x1 = 8.0\n",
      "x2 = 2.0\n",
      "x3 = -1.0\n"
     ]
    }
   ],
   "source": [
    "A = np.array([[1, -2, 3],\n",
    "              [-1, 3, -1],\n",
    "              [2, -5, 5]])\n",
    "\n",
    "b = np.array([1, -1, 1])\n",
    "x = np.linalg.solve(A, b)\n",
    "\n",
    "print(\"x1 =\", x[0])\n",
    "print(\"x2 =\", x[1])\n",
    "print(\"x3 =\", x[2])"
   ]
  },
  {
   "cell_type": "markdown",
   "id": "beb0a8af",
   "metadata": {},
   "source": [
    "**Chap 12. Question 1**"
   ]
  },
  {
   "cell_type": "code",
   "execution_count": 27,
   "id": "4fe15c46",
   "metadata": {},
   "outputs": [
    {
     "name": "stdout",
     "output_type": "stream",
     "text": [
      "[[ 0.66666667  1.33333333  0.5       ]\n",
      " [ 1.          2.          0.5       ]\n",
      " [-3.         -5.         -1.        ]]\n"
     ]
    }
   ],
   "source": [
    "A = np.array([[3, -7, -2],\n",
    "              [-3, 5, 1],\n",
    "              [6, -4, 0]])\n",
    "\n",
    "A_inv = np.linalg.inv(A)\n",
    "\n",
    "print(A_inv)"
   ]
  },
  {
   "cell_type": "markdown",
   "id": "6a4a524f",
   "metadata": {},
   "source": [
    "### Copies and Views\n",
    "Read the following link: https://numpy.org/doc/stable/user/basics.copies.html"
   ]
  },
  {
   "cell_type": "markdown",
   "id": "6cbbeaf7",
   "metadata": {},
   "source": [
    "**Basic indexing creates a view, How can you check if v1 and v2 is a view or copy? If you change the last element in v2 to 123, will the last element in v1 be changed? Why?**"
   ]
  },
  {
   "cell_type": "code",
   "execution_count": null,
   "id": "5b9ef4df",
   "metadata": {},
   "outputs": [],
   "source": [
    "v1 = np.arange(4)\n",
    "v2 = v1[-2:]\n",
    "print(v1)\n",
    "print(v2)"
   ]
  },
  {
   "cell_type": "code",
   "execution_count": null,
   "id": "d2440489",
   "metadata": {},
   "outputs": [],
   "source": [
    "# The base attribute of a view returns the original array while it returns None for a copy.\n",
    "print(v1.base)\n",
    "print(v2.base)"
   ]
  },
  {
   "cell_type": "code",
   "execution_count": null,
   "id": "c8752807",
   "metadata": {},
   "outputs": [],
   "source": [
    "# The last element in v1 will be changed aswell since v2 is a view, meaning they share the same data buffer.\n",
    "v2[-1] = 123\n",
    "print(v1)\n",
    "print(v2)"
   ]
  },
  {
   "cell_type": "code",
   "execution_count": 28,
   "id": "3dd68221",
   "metadata": {},
   "outputs": [
    {
     "name": "stdout",
     "output_type": "stream",
     "text": [
      "v1: [0 1 2 3]\n",
      "v2: [2 3]\n",
      "Is v1 a view?  False\n",
      "Is v2 a view?  True\n",
      "Base of v1: None\n",
      "Base of v2: [0 1 2 3]\n",
      "v1 after change: [  0   1   2 123]\n",
      "v2 after change: [  2 123]\n"
     ]
    }
   ],
   "source": [
    "# Create an array v1 with values from 0 to 3\n",
    "v1 = np.arange(4)\n",
    "\n",
    "# Create v2 as the last two elements of v1\n",
    "v2 = v1[-2:]\n",
    "\n",
    "# Print v1 and v2\n",
    "print(\"v1:\", v1)\n",
    "print(\"v2:\", v2)\n",
    "\n",
    "# Check if v1 and v2 are views or copies\n",
    "print(\"Is v1 a view? \", v1.base is not None)\n",
    "print(\"Is v2 a view? \", v2.base is not None)\n",
    "\n",
    "# As mentioned, the base attribute of a view returns the original array, \n",
    "# while it returns None for a copy. Hence, if v2.base is not None, it's a view.\n",
    "print(\"Base of v1:\", v1.base)\n",
    "print(\"Base of v2:\", v2.base)\n",
    "\n",
    "# Change the last element of v2\n",
    "v2[-1] = 123\n",
    "\n",
    "# Print v1 and v2 again to observe the effect of the change on both arrays\n",
    "print(\"v1 after change:\", v1)\n",
    "print(\"v2 after change:\", v2)"
   ]
  },
  {
   "cell_type": "code",
   "execution_count": null,
   "id": "83b9973e",
   "metadata": {},
   "outputs": [],
   "source": []
  }
 ],
 "metadata": {
  "kernelspec": {
   "display_name": "Python 3 (ipykernel)",
   "language": "python",
   "name": "python3"
  },
  "language_info": {
   "codemirror_mode": {
    "name": "ipython",
    "version": 3
   },
   "file_extension": ".py",
   "mimetype": "text/x-python",
   "name": "python",
   "nbconvert_exporter": "python",
   "pygments_lexer": "ipython3",
   "version": "3.11.5"
  }
 },
 "nbformat": 4,
 "nbformat_minor": 5
}
